{
 "cells": [
  {
   "cell_type": "code",
   "execution_count": 4,
   "metadata": {},
   "outputs": [],
   "source": [
    "from langchain.chat_models import ChatOpenAI\n",
    "from langchain.prompts import ChatPromptTemplate\n",
    "\n",
    "\n",
    "chat = ChatOpenAI(temperature=0.1)\n",
    "\n",
    "poem_template = ChatPromptTemplate.from_messages([\n",
    "    (\"system\",\"You are a poet skilled in writing poems about programming languages.\"),\n",
    "    (\"human\", \"Write a short, creative poem about the programming language: {language_name}\"),\n",
    "])\n",
    "\n",
    "poem_chain = poem_template | chat"
   ]
  },
  {
   "cell_type": "code",
   "execution_count": 9,
   "metadata": {},
   "outputs": [
    {
     "data": {
      "text/plain": [
       "AIMessage(content=\"In the land of code, where serpents slither,\\nPython reigns, a language that's neither\\nToo complex nor too simple, it strikes a balance,\\nWith syntax clean, like a graceful dance.\\n\\nIts libraries vast, its power immense,\\nFrom web apps to data science, it makes sense.\\nIndentation matters, in Python's domain,\\nFor readability and elegance, it's the main.\\n\\nSo embrace the snake, let it guide your hand,\\nPython, the language that helps you stand\\nAbove the rest, with its beauty and grace,\\nA tool for creation in the coding race.\")"
      ]
     },
     "execution_count": 9,
     "metadata": {},
     "output_type": "execute_result"
    }
   ],
   "source": [
    "poem_chain.invoke({\"language_name\":\"Python\"})"
   ]
  },
  {
   "cell_type": "code",
   "execution_count": 5,
   "metadata": {},
   "outputs": [],
   "source": [
    "explain_poem_prompt = ChatPromptTemplate.from_messages([\n",
    "    (\"system\", \"You are an AI that explains poems.\"),\n",
    "    (\"human\",\"Explain the meaning and theme of this poem:\\n\\n{poem}\"),\n",
    "])"
   ]
  },
  {
   "cell_type": "code",
   "execution_count": 6,
   "metadata": {},
   "outputs": [],
   "source": [
    "explain_chain = explain_poem_prompt | chat"
   ]
  },
  {
   "cell_type": "code",
   "execution_count": 7,
   "metadata": {},
   "outputs": [],
   "source": [
    "final_chain = {\"poem\":poem_chain} | explain_chain"
   ]
  },
  {
   "cell_type": "code",
   "execution_count": 8,
   "metadata": {},
   "outputs": [
    {
     "data": {
      "text/plain": [
       "AIMessage(content=\"This poem is an ode to the programming language Python, using imagery of serpents and ruling over a land of code to convey its significance and versatility. The poet highlights Python's balance between complexity and simplicity, its clean syntax, and the importance of indentation for readability. The theme of the poem revolves around Python's dominance in various fields such as web development and data science, thanks to its versatility and the abundance of libraries like pandas and numpy that empower users to accomplish tasks more efficiently. The overall message celebrates Python as a powerful and essential tool in the world of programming.\")"
      ]
     },
     "execution_count": 8,
     "metadata": {},
     "output_type": "execute_result"
    }
   ],
   "source": [
    "final_chain.invoke({\n",
    "    \"language_name\":\"python\"\n",
    "})"
   ]
  }
 ],
 "metadata": {
  "kernelspec": {
   "display_name": "venv",
   "language": "python",
   "name": "python3"
  },
  "language_info": {
   "codemirror_mode": {
    "name": "ipython",
    "version": 3
   },
   "file_extension": ".py",
   "mimetype": "text/x-python",
   "name": "python",
   "nbconvert_exporter": "python",
   "pygments_lexer": "ipython3",
   "version": "3.11.6"
  }
 },
 "nbformat": 4,
 "nbformat_minor": 2
}
