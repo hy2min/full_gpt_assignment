{
 "cells": [
  {
   "cell_type": "code",
   "execution_count": null,
   "metadata": {},
   "outputs": [],
   "source": [
    "from langchain.chains import LLMChain\n",
    "from langchain.prompts import FewShotPromptTemplate, PromptTemplate\n",
    "from langchain.memory import ConversationSummaryBufferMemory\n",
    "from langchain.chat_models import ChatOpenAI\n",
    "\n",
    "llm = ChatOpenAI(temperature=0.1)\n",
    "\n",
    "memory = ConversationSummaryBufferMemory(\n",
    "    llm=llm,\n",
    "    max_token_limit=80,\n",
    ")\n",
    "\n",
    "examples = [\n",
    "    {\"input\": \"탑건\", \"output\": \"🛩️👨‍✈️🔥\"},\n",
    "    {\"input\": \"대부\", \"output\": \"👨‍👨‍👦🔫🍝\"},\n",
    "]\n",
    "example_template = \"\"\"\n",
    "영화 제목: {input}\n",
    "이모티콘: {output}\n",
    "\"\"\"\n",
    "few_shot_prompt = FewShotPromptTemplate.from_examples(\n",
    "    examples=examples,\n",
    "    example_prompt=PromptTemplate.from_template(example_template),\n",
    "    prefix=\"다음은 영화 제목을 세 개의 이모티콘으로 표현한 예시입니다.\",\n",
    "    suffix=\"영화 제목: {question}\\n이모티콘:\",\n",
    "    input_variables=[\"question\"],\n",
    ")\n",
    "\n",
    "chain = LLMChain(\n",
    "    llm=llm,\n",
    "    memory=memory,\n",
    "    prompt=few_shot_prompt,\n",
    "    verbose=True,\n",
    ")\n",
    "\n",
    "response_1 = chain.predict(question=\"탑건\")\n",
    "print(\"탑건:\", response_1)\n",
    "\n",
    "response_2 = chain.predict(question=\"대부\")\n",
    "print(\"대부:\", response_2)\n",
    "\n",
    "response_3 = chain.predict(question=\"내가 처음에 물어본 영화가 뭐였지?\")\n",
    "print(\"처음 질문한 영화:\", response_3)\n"
   ]
  }
 ],
 "metadata": {
  "kernelspec": {
   "display_name": "venv",
   "language": "python",
   "name": "python3"
  },
  "language_info": {
   "codemirror_mode": {
    "name": "ipython",
    "version": 3
   },
   "file_extension": ".py",
   "mimetype": "text/x-python",
   "name": "python",
   "nbconvert_exporter": "python",
   "pygments_lexer": "ipython3",
   "version": "3.11.6"
  }
 },
 "nbformat": 4,
 "nbformat_minor": 2
}
