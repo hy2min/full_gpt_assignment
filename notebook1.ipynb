{
 "cells": [
  {
   "cell_type": "code",
   "execution_count": null,
   "metadata": {},
   "outputs": [],
   "source": [
    "from langchain.tools import WikipediaQueryRun, DuckDuckGoSearchRun\n",
    "from langchain.document_loaders import WebBaseLoader\n",
    "from langchain.agents import initialize_agent, Tool\n",
    "from langchain.chains import LLMMathChain\n",
    "from langchain.chat_models import ChatOpenAI\n",
    "import os\n",
    "\n",
    "\n",
    "wikipedia_tool = Tool(\n",
    "    name=\"Wikipedia\",\n",
    "    func=WikipediaQueryRun().run,\n",
    "    description=\"Use this tool to search for information on Wikipedia.\"\n",
    ")\n",
    "\n",
    "\n",
    "duckduckgo_tool = Tool(\n",
    "    name=\"DuckDuckGo\",\n",
    "    func=DuckDuckGoSearchRun().run,\n",
    "    description=\"Use this tool to search for information on DuckDuckGo.\"\n",
    ")\n",
    "\n",
    "\n",
    "def scrape_website(url):\n",
    "    loader = WebBaseLoader(url)\n",
    "    documents = loader.load()\n",
    "    return \"\\n\\n\".join([doc.page_content for doc in documents])\n",
    "\n",
    "web_scraper_tool = Tool(\n",
    "    name=\"WebScraper\",\n",
    "    func=scrape_website,\n",
    "    description=\"Use this tool to scrape content from a website given its URL.\"\n",
    ")\n",
    "\n",
    "\n",
    "def save_to_txt_file(content, filename=\"research_results.txt\"):\n",
    "    with open(filename, \"w\", encoding=\"utf-8\") as file:\n",
    "        file.write(content)\n",
    "    return f\"Results saved to {filename}\"\n",
    "\n",
    "save_tool = Tool(\n",
    "    name=\"SaveToTxt\",\n",
    "    func=lambda content: save_to_txt_file(content),\n",
    "    description=\"Use this tool to save content to a .txt file.\"\n",
    ")\n",
    "\n",
    "\n",
    "llm = ChatOpenAI(model=\"gpt-3.5-turbo\", temperature=0)\n",
    "tools = [wikipedia_tool, duckduckgo_tool, web_scraper_tool, save_tool]\n",
    "agent = initialize_agent(tools, llm, agent=\"zero-shot-react-description\", verbose=True)\n",
    "\n",
    "\n",
    "query = \"Research about the XZ backdoor\"\n",
    "result = agent.run(query)\n",
    "print(\"\\nResearch complete!\")\n"
   ]
  }
 ],
 "metadata": {
  "kernelspec": {
   "display_name": "venv",
   "language": "python",
   "name": "python3"
  },
  "language_info": {
   "name": "python",
   "version": "3.11.6"
  }
 },
 "nbformat": 4,
 "nbformat_minor": 2
}
